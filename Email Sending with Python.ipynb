{
 "cells": [
  {
   "cell_type": "code",
   "execution_count": 1,
   "metadata": {},
   "outputs": [
    {
     "name": "stdout",
     "output_type": "stream",
     "text": [
      "Collecting emails\n",
      "  Downloading emails-0.6-py2.py3-none-any.whl (56 kB)\n",
      "Requirement already satisfied: requests in c:\\users\\home1\\anaconda3\\lib\\site-packages (from emails) (2.24.0)\n",
      "Collecting premailer\n",
      "  Downloading premailer-3.7.0-py2.py3-none-any.whl (18 kB)\n",
      "Requirement already satisfied: lxml in c:\\users\\home1\\anaconda3\\lib\\site-packages (from emails) (4.5.2)\n",
      "Requirement already satisfied: python-dateutil in c:\\users\\home1\\anaconda3\\lib\\site-packages (from emails) (2.8.1)\n",
      "Requirement already satisfied: chardet in c:\\users\\home1\\anaconda3\\lib\\site-packages (from emails) (3.0.4)\n",
      "Collecting cssutils\n",
      "  Downloading cssutils-1.0.2-py3-none-any.whl (406 kB)\n",
      "Requirement already satisfied: idna<3,>=2.5 in c:\\users\\home1\\anaconda3\\lib\\site-packages (from requests->emails) (2.10)\n",
      "Requirement already satisfied: certifi>=2017.4.17 in c:\\users\\home1\\anaconda3\\lib\\site-packages (from requests->emails) (2020.6.20)\n",
      "Requirement already satisfied: urllib3!=1.25.0,!=1.25.1,<1.26,>=1.21.1 in c:\\users\\home1\\anaconda3\\lib\\site-packages (from requests->emails) (1.25.9)\n",
      "Collecting cssselect\n",
      "  Downloading cssselect-1.1.0-py2.py3-none-any.whl (16 kB)\n",
      "Collecting cachetools\n",
      "  Downloading cachetools-4.2.0-py3-none-any.whl (12 kB)\n",
      "Requirement already satisfied: six>=1.5 in c:\\users\\home1\\anaconda3\\lib\\site-packages (from python-dateutil->emails) (1.15.0)\n",
      "Installing collected packages: cssselect, cachetools, cssutils, premailer, emails\n",
      "Successfully installed cachetools-4.2.0 cssselect-1.1.0 cssutils-1.0.2 emails-0.6 premailer-3.7.0\n"
     ]
    }
   ],
   "source": [
    "!pip install emails"
   ]
  },
  {
   "cell_type": "code",
   "execution_count": 2,
   "metadata": {},
   "outputs": [],
   "source": [
    "import emails"
   ]
  },
  {
   "cell_type": "code",
   "execution_count": null,
   "metadata": {},
   "outputs": [],
   "source": [
    "html_text ='''<p>Hello LetsUpgrade,</p>\n",
    "<p>i am Aavesh Momin&nbsp;</p>\n",
    "<p>From Mumbai</p>\n",
    "<p>i want to learn python ,when the batches will start?</p>\n",
    "<p><br></p>\n",
    "<p>Regards,</p>\n",
    "<p>Aavesh Momin.</p>'''"
   ]
  },
  {
   "cell_type": "code",
   "execution_count": 3,
   "metadata": {},
   "outputs": [],
   "source": [
    "message = emails.html(html=html_text,\n",
    "                          subject=\"Email from python Script\",\n",
    "                          mail_from=('Aavesh Momin', 'mominaavesh@gmail.com'))\n",
    "   "
   ]
  },
  {
   "cell_type": "code",
   "execution_count": 4,
   "metadata": {},
   "outputs": [],
   "source": [
    "mail_via_python =  message.send(to='soxafa3857@febeks.com',\n",
    "                                smtp={'host': 'smtp.gmail.com', \n",
    "                                      'timeout': 5,\n",
    "                                      'port':587,\n",
    "                                      'user':'letsupgrade@gmail.com',\n",
    "                                      'password':'letsgo125',\n",
    "                                      'tls':True})"
   ]
  },
  {
   "cell_type": "code",
   "execution_count": 6,
   "metadata": {},
   "outputs": [],
   "source": []
  },
  {
   "cell_type": "code",
   "execution_count": null,
   "metadata": {},
   "outputs": [],
   "source": []
  }
 ],
 "metadata": {
  "kernelspec": {
   "display_name": "Python 3",
   "language": "python",
   "name": "python3"
  },
  "language_info": {
   "codemirror_mode": {
    "name": "ipython",
    "version": 3
   },
   "file_extension": ".py",
   "mimetype": "text/x-python",
   "name": "python",
   "nbconvert_exporter": "python",
   "pygments_lexer": "ipython3",
   "version": "3.8.3"
  }
 },
 "nbformat": 4,
 "nbformat_minor": 4
}
