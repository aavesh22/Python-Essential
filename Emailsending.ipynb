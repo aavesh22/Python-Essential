
   "source": [
    "!pip install emails"
   ]
  {
   "cell_type": "code",
   "execution_count": 19,
   "metadata": {},
   "outputs": [],
   "source": [
    "import emails"
   ]
  },
  {
   "cell_type": "code",
   "execution_count": 28,
   "metadata": {},
   "outputs": [],
   "source": [
    "html_text = '''<p><span style=\"font-family: Courier New, courier;\"><span style=\"background-color: rgb(247, 218, 100);\">HEY Rowdy,</span>&nbsp;</span></p>\n",
    "<p><span style=\"font-family: Courier New, courier;\"><br></span></p>\n",
    "<p><span style=\"font-family: Courier New, courier;\">How are you this is SAIKIRAN FROM LEtsUpgrade,&nbsp;</span></p>\n",
    "<p><span style=\"font-family: Courier New, courier;\">Cheif Rowdy at LU !!</span></p>\n",
    "<p><span style=\"font-family: Courier New, courier;\">Love teaching you all, hope you like this project&nbsp;</span></p>\n",
    "<p><span style=\"font-family: Courier New, courier;\"><br></span></p>\n",
    "<p><span style=\"font-family: Courier New, courier;\">Regards,&nbsp;</span></p>\n",
    "<p><strong><span style=\"font-family: Courier New, courier;\">Cheif Rowdy,</span></strong></p>\n",
    "<p><span style=\"font-family: Courier New, courier;\"><strong>Saikiran Sondarkar</strong></span></p>'''\n",
    "\n",
    "\n",
    "message = emails.html(html=html_text,\n",
    "                          subject=\"Your EMAIL FROM PYTHON SCRIPT\",\n",
    "                          mail_from=('Rowdy LetsUpgrade', 'sai@xyz.com'))\n"
   ]
  },
  {
   "cell_type": "code",
   "execution_count": 38,
   "metadata": {},
   "outputs": [],
   "source": [
    "mail_via_python = message.send(to='nabipi7212@econeom.com', \n",
    "                               smtp={'host': 'smtp.gmail.com', \n",
    "                                     'timeout': 5,\n",
    "                                    'port':587,\n",
    "                                    'user':'YOUREMAIL@REQUIRED>COM',\n",
    "                                    'password':'YourPassWordREquired',\n",
    "                                    'tls':True})\n"
   ]
  },
  {
   "cell_type": "code",
   "execution_count": 39,
   "metadata": {},
   "outputs": [
    {
     "data": {
      "text/plain": [
       "<emails.backend.SMTPResponse status_code=250 status_text=b'2.0.0 OK  1608044869 b13sm8637671pfi.162 - gsmtp'>"
      ]
     },
     "execution_count": 39,
     "metadata": {},
     "output_type": "execute_result"
    }
   ],
   "source": [
    "mail_via_python"
   ]
  },
  {
   "cell_type": "code",
   "execution_count": 40,
   "metadata": {},
   "outputs": [],
   "source": [
    "def sendMail(email, name):\n",
    "    \n",
    "    html_text = '''<p><span style=\"font-family: Courier New, courier;\"><span style=\"background-color: rgb(247, 218, 100);\">HEY Rowdy,'''+ name+'''</span>&nbsp;</span></p>\n",
    "                <p><span style=\"font-family: Courier New, courier;\"><br></span></p>\n",
    "                <p><span style=\"font-family: Courier New, courier;\">How are you this is SAIKIRAN FROM LEtsUpgrade,&nbsp;</span></p>\n",
    "                <p><span style=\"font-family: Courier New, courier;\">Cheif Rowdy at LU !!</span></p>\n",
    "                <p><span style=\"font-family: Courier New, courier;\">Love teaching you all, hope you like this project&nbsp;</span></p>\n",
    "                <p><span style=\"font-family: Courier New, courier;\"><br></span></p>\n",
    "                <p><span style=\"font-family: Courier New, courier;\">Regards,&nbsp;</span></p>\n",
    "                <p><strong><span style=\"font-family: Courier New, courier;\">Cheif Rowdy,</span></strong></p>\n",
    "                <p><span style=\"font-family: Courier New, courier;\"><strong>Saikiran Sondarkar</strong></span></p>'''\n",
    "\n",
    "    subject = \"Hey Rowdy \"+ name + \", you have EMAIL FROM LetsUpgrade\"\n",
    "    message = emails.html(html=html_text,\n",
    "                          subject=subject,\n",
    "                          mail_from=('Rowdy LetsUpgrade', 'sai@xyz.com'))\n",
    "\n",
    "    \n",
    "    mail_via_python = message.send(to=email, \n",
    "                               smtp={'host': 'smtp.gmail.com', \n",
    "                                     'timeout': 5,\n",
    "                                    'port':587,\n",
    "                                    'user':'YOUREMAIL@REQUIRED>COM',\n",
    "                                    'password':'YourPassWordREquired',\n",
    "                                    'tls':True})\n",
    "    return mail_via_python.status_code"
   ]
  },
  {
   "cell_type": "code",
   "execution_count": 41,
   "metadata": {},
   "outputs": [
    {
     "data": {
      "text/plain": [
       "250"
      ]
     },
     "execution_count": 41,
     "metadata": {},
     "output_type": "execute_result"
    }
   ],
   "source": [
    "sendMail(\"nabipi7212@econeom.com\",\"Sai\")"
   ]
  },
  {
   "cell_type": "code",
   "execution_count": null,
   "metadata": {},
   "outputs": [],
   "source": []
  }
 ],
 "metadata": {
  "kernelspec": {
   "display_name": "Python 3",
   "language": "python",
   "name": "python3"
  },
  "language_info": {
   "codemirror_mode": {
    "name": "ipython",
    "version": 3
   },
   "file_extension": ".py",
   "mimetype": "text/x-python",
   "name": "python",
   "nbconvert_exporter": "python",
   "pygments_lexer": "ipython3",
   "version": "3.7.4"
  }
 },
 "nbformat": 4,
 "nbformat_minor": 2
}
